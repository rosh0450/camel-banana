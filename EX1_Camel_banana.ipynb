{
 "cells": [
  {
   "cell_type": "code",
   "execution_count": 14,
   "metadata": {
    "colab": {
     "base_uri": "https://localhost:8080/"
    },
    "id": "ss1WpPkOTjLf",
    "outputId": "dfd45b72-ec54-4999-ec8a-138d64eee201"
   },
   "outputs": [
    {
     "name": "stdout",
     "output_type": "stream",
     "text": [
      "Enter no. of bananas at starting 4000\n",
      "Enter distance you want to cover 1000\n",
      "Enter max load capacity of your camel 1000\n",
      "676\n"
     ]
    }
   ],
   "source": [
    "total=int(input('Enter no. of bananas at starting '))\n",
    "distance=int(input('Enter distance you want to cover '))\n",
    "load_capacity=int(input('Enter max load capacity of your camel '))\n",
    "lose=0\n",
    "start=total\n",
    "for i in range(distance):\n",
    "    while start>0:\n",
    "        start=start-load_capacity\n",
    "\n",
    "        if start==1:\n",
    "            lose=lose-1\n",
    "        lose=lose+2\n",
    "\n",
    "    lose=lose-1\n",
    "    start=total-lose\n",
    "    if start==0:\n",
    "        break\n",
    "print(start)"
   ]
  },
  {
   "cell_type": "code",
   "execution_count": 3,
   "metadata": {
    "colab": {
     "base_uri": "https://localhost:8080/"
    },
    "id": "hKNiKyy4Tl3j",
    "outputId": "e6abc76c-a062-4cac-cdb5-2aa7f5a05e32"
   },
   "outputs": [
    {
     "name": "stdout",
     "output_type": "stream",
     "text": [
      "Enter no. of bananas at starting 3000\n",
      "Enter distance you want to cover 1000\n",
      "Enter max load capacity of your camel 1000\n",
      "Maximum number of bananas that can be transported to the destination are:  533\n"
     ]
    }
   ],
   "source": [
    "total=int(input('Enter no. of bananas at starting '))\n",
    "distance=int(input('Enter distance you want to cover '))\n",
    "load_capacity=int(input('Enter max load capacity of your camel '))\n",
    "\n",
    "#total = 3000\n",
    "#distance = 1000\n",
    "#load_capacity = 1000\n",
    "\n",
    "\n",
    "trip1 = (total / load_capacity) + (total/load_capacity) - 1\n",
    "#print(trip1)\n",
    "\n",
    "total = 0.0\n",
    "\n",
    "while trip1 != 1:\n",
    "  pa = 1000/trip1\n",
    "  #print(pa)\n",
    "\n",
    "  total = total+pa\n",
    "  #print(total)\n",
    "\n",
    "  trip1 = trip1 - 2\n",
    "  #print(trip1)\n",
    "\n",
    "bm = 1000 - total\n",
    "\n",
    "ban = 1000 - bm\n",
    "\n",
    "print(\"Maximum number of bananas that can be transported to the destination are: \",int(ban))\n",
    "\n",
    "  "
   ]
  },
  {
   "cell_type": "code",
   "execution_count": 5,
   "metadata": {
    "colab": {
     "base_uri": "https://localhost:8080/"
    },
    "id": "Gxbl8k-TWHqy",
    "outputId": "18e041c0-3977-4034-f4ca-8bb0e0c99244"
   },
   "outputs": [
    {
     "data": {
      "text/plain": [
       "5.0"
      ]
     },
     "execution_count": 5,
     "metadata": {
      "tags": []
     },
     "output_type": "execute_result"
    }
   ],
   "source": [
    "1trip1"
   ]
  },
  {
   "cell_type": "code",
   "execution_count": null,
   "metadata": {
    "id": "-IcVzuXVWL7D"
   },
   "outputs": [],
   "source": []
  }
 ],
 "metadata": {
  "colab": {
   "name": "Camel_banana.ipynb",
   "provenance": []
  },
  "kernelspec": {
   "display_name": "Python 3",
   "language": "python",
   "name": "python3"
  },
  "language_info": {
   "codemirror_mode": {
    "name": "ipython",
    "version": 3
   },
   "file_extension": ".py",
   "mimetype": "text/x-python",
   "name": "python",
   "nbconvert_exporter": "python",
   "pygments_lexer": "ipython3",
   "version": "3.8.3"
  }
 },
 "nbformat": 4,
 "nbformat_minor": 1
}
